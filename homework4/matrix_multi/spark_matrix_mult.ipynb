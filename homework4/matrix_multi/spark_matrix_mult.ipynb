{
 "cells": [
  {
   "cell_type": "code",
   "execution_count": 1,
   "metadata": {},
   "outputs": [],
   "source": [
    "from pyspark import SparkContext"
   ]
  },
  {
   "cell_type": "code",
   "execution_count": 2,
   "metadata": {},
   "outputs": [],
   "source": [
    "sc = SparkContext('local[2]', 'pyspark matrix mult')"
   ]
  },
  {
   "cell_type": "code",
   "execution_count": 3,
   "metadata": {},
   "outputs": [],
   "source": [
    "def index_col(x):\n",
    "    cnt = -1\n",
    "    for n in x:\n",
    "        cnt+=1\n",
    "        yield (cnt, n)"
   ]
  },
  {
   "cell_type": "code",
   "execution_count": 4,
   "metadata": {},
   "outputs": [],
   "source": [
    "A = sc.textFile('mat_A.txt').map(lambda x: x.split(';')).map(lambda x: (int(x[0]),eval(x[1])))\n",
    "B = sc.textFile('vec_B.txt').map(eval)\n",
    "\n",
    "B = B.flatMap(index_col)\n",
    "\n",
    "A = A.flatMapValues(index_col).map(lambda x: (x[1][0],(x[0],x[1][1])))\n",
    "W = A.join(B)\n",
    "\n",
    "W = W.map(lambda x: (x[1][0][0], x[1][0][1]*x[1][1]))\n",
    "\n",
    "W = W.reduceByKey(lambda x,y: x+y)\n",
    "\n",
    "W.collect()\n",
    "\n",
    "W.saveAsTextFile('multi_matrix.txt')"
   ]
  },
  {
   "cell_type": "code",
   "execution_count": null,
   "metadata": {},
   "outputs": [],
   "source": []
  }
 ],
 "metadata": {
  "kernelspec": {
   "display_name": "Python 3",
   "language": "python",
   "name": "python3"
  },
  "language_info": {
   "codemirror_mode": {
    "name": "ipython",
    "version": 3
   },
   "file_extension": ".py",
   "mimetype": "text/x-python",
   "name": "python",
   "nbconvert_exporter": "python",
   "pygments_lexer": "ipython3",
   "version": "3.6.4"
  }
 },
 "nbformat": 4,
 "nbformat_minor": 2
}
